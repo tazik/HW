{
 "cells": [
  {
   "cell_type": "markdown",
   "metadata": {},
   "source": [
    "# Практическое задание\n",
    "\n",
    "## Интерполяция байеровского шаблона (demosaicing)\n",
    "\n",
    "### О задании\n",
    "\n",
    "В этом задании вам предстоит познакомится с простейшими инструментами считывания и обработки изображений в python, и с помощью них реализовать и протестировать 2 метода интерполяции байеровского шаблона. \n",
    "\n",
    "### Инструменты\n",
    "\n",
    "Задание предполагает использование `python3`, не ниже версии `3.5`. \n",
    "Вам понадобится работать со следущими пакетами:\n",
    "\n",
    "* [`numpy`](https://docs.scipy.org/doc/numpy/reference/index.html) - библиотека для работы с многомерными масивами и матрицами, содержащая большое кол-во высокоуровневых математических функций для операций с этими масивами.  \n",
    "\n",
    "\n",
    "* [`skimage`](http://scikit-image.org/) - библиотека, содержащие большую коллекцию алгоритмов для обработки изображений;\n",
    "\n",
    "* [`scipy`](https://www.scipy.org/) - библиотека, содержащая большой набор инструментов для математических и инженерных вычислений. Основная структура данных numpy массив.\n",
    "\n",
    "* [`matplotlib`](https://matplotlib.org/) - библиотека для визуализации различных графиков, диаграмм, изображений и много другого."
   ]
  },
  {
   "cell_type": "code",
   "execution_count": 4,
   "metadata": {
    "ExecuteTime": {
     "end_time": "2018-04-20T15:42:30.237967Z",
     "start_time": "2018-04-20T15:42:30.234135Z"
    }
   },
   "outputs": [],
   "source": [
    "#!pip install numpy scikit-image scipy matplotlib"
   ]
  },
  {
   "cell_type": "markdown",
   "metadata": {},
   "source": [
    "### Общая информация\n",
    "\n",
    "Фильтр Байера - это матрица цветных фильтров для фотосенсора фотоаппарта. Каждая ячейка матрицы представляет собой фильтр одного из цветов R, G или B. В классическом фильтре Байера применяются светофильтры трёх основных цветов в следующем порядке: <img src=\"bayer_pat.png\" width=\"50\">\n",
    "Матрица является устройством, воспринимающим спроецированное на него изображение. Вследствие использования фильтров каждый фотоприемник воспринимает лишь 1/3 цветовой информации участка изображения, а 2/3 отсекается фильтром. Недостающие компоненты цвета рассчитываются процессором камеры на основании данных из соседних ячеек в результате интерполяции (demosaicing).\n",
    "<img src=\"bayer.jpg\" width=\"500\">\n",
    "\n",
    "Вам необходимо будет научиться востанавливать \"полноцветное\" изображение по байеровскому шаблону.\n",
    "\n",
    "Вместе с заданием вам был выдан архив `data.zip`. В нем содержатся следущие данные:\n",
    "* `raw/` - директория с  различными одноканальными изображениями, полученными с помощью фильтра Байера. Фильтр Байера который применялся, соответствует последовательности каналов(GRGB), показанной выше. В каждом пикселе изображения записан отклик фильтра соответсвующего цвета;\n",
    "* `gt/` - директория с *ground truth* изображениями, каждому raw-изображению из предыдущей директории существует изображение из этой директории(с тем же именем) с истинными значениями RGB-канналов в каждом пикселе;\n",
    "* `debug/` - изображения для самопроверки работы алгоритмов.\n",
    "\n",
    "Выполненный нотбук сдается вместе с папкой `results`, где должны лежать результаты работы алгоритмов. Ниже будет описано подробнее. Все необходимо заархивировать в один zip файл."
   ]
  },
  {
   "cell_type": "markdown",
   "metadata": {},
   "source": [
    "### Практическая часть"
   ]
  },
  {
   "cell_type": "code",
   "execution_count": null,
   "metadata": {
    "ExecuteTime": {
     "end_time": "2018-04-20T15:42:31.474995Z",
     "start_time": "2018-04-20T15:42:31.114259Z"
    }
   },
   "outputs": [],
   "source": [
    "import skimage.io\n",
    "import numpy as np\n",
    "import os\n",
    "import matplotlib.pyplot as plt"
   ]
  },
  {
   "cell_type": "code",
   "execution_count": null,
   "metadata": {
    "ExecuteTime": {
     "end_time": "2018-04-20T15:42:31.480144Z",
     "start_time": "2018-04-20T15:42:31.476911Z"
    }
   },
   "outputs": [],
   "source": [
    "GT_DIR = 'data/gt/'\n",
    "RAW_DIR = 'data/raw/'"
   ]
  },
  {
   "cell_type": "markdown",
   "metadata": {},
   "source": [
    "**1. (0.5 балла)**\n",
    "\n",
    "Считайте raw и ground truth изображения `IMG0001.bmp`, выведите в какой тип данных они считались(список, массив, ...?), какой тип данных у пикселей изображения(float, int, ...?), размеры изображений.  Подумайте на тем как хранятся изображения в памяти.\n",
    "\n",
    "Вам могут понадобиться:\n",
    "* `skimage.io.imread(..)`\n",
    "\n",
    "**Hint**: в jupyter-notebook если после ввода названия функции нажать сочетание клавиш `shift+tab` , выведется докстринг этой функции."
   ]
  },
  {
   "cell_type": "code",
   "execution_count": null,
   "metadata": {
    "ExecuteTime": {
     "end_time": "2018-04-20T15:42:38.881681Z",
     "start_time": "2018-04-20T15:42:38.860033Z"
    }
   },
   "outputs": [],
   "source": [
    "gt_image = # your code here\n",
    "raw_image = # your code here\n",
    "\n",
    "print(\"Тип считанного изображения:\", # your code here\n",
    "print('Типы элементов матриц:', # your code here\n",
    "print(\"Размеры:\", # your code here"
   ]
  },
  {
   "cell_type": "markdown",
   "metadata": {},
   "source": [
    "Теперь давайте посмотрим на считанные изображения. Для этого воспользуемся:\n",
    "* `matplotlib.pyplot.subplots(...)` для создания фигуры, заданного размера, с нужным нам количеством окон\n",
    "* `matplotlib.axes.Axes.imshow(...)` методом объекта `matplotlib.axes.Axes` для вывода изображения"
   ]
  },
  {
   "cell_type": "code",
   "execution_count": null,
   "metadata": {
    "ExecuteTime": {
     "end_time": "2018-04-20T15:42:39.623878Z",
     "start_time": "2018-04-20T15:42:39.355354Z"
    }
   },
   "outputs": [],
   "source": [
    "figure, axs = plt.subplots(1, 2, figsize=(10, 5))\n",
    "\n",
    "axs[0].imshow(gt_image)\n",
    "axs[1].imshow(raw_image, cmap='gray')\n",
    "plt.show()"
   ]
  },
  {
   "cell_type": "markdown",
   "metadata": {},
   "source": [
    "**2. (0.5 балла)**\n",
    "\n",
    "Перейдем непосредственного к интерепполяции байеровского шаблона.\n",
    "Напишите вспомогательную функцию, которая для заданного размера raw-изображения создает маски для красных, зеленых и синих каналов байровского шаблона.\n",
    "\n",
    "Вам могут понадобиться:\n",
    "* `numpy.tile(...)`"
   ]
  },
  {
   "cell_type": "code",
   "execution_count": null,
   "metadata": {
    "ExecuteTime": {
     "end_time": "2018-04-20T15:42:39.857642Z",
     "start_time": "2018-04-20T15:42:39.825313Z"
    }
   },
   "outputs": [],
   "source": [
    "def get_bayer_pattern_masks(h, w):\n",
    "    \"\"\"\n",
    "    Get 3 masks for red, green, blue channels of bayer pattern size (h, w)\n",
    "\n",
    "    :param h: int, height of bayer pattern\n",
    "    :param w: int, width of bayer pattern\n",
    "    :return: [numpy.ndarray((h, w)), numpy.ndarray((h, w)), numpy.ndarray((h, w))],\n",
    "    list of 3 mask, size (h, w) for red, green, blue channels respectively\n",
    "    \"\"\"\n",
    "    # your code here\n",
    "    \n",
    "    return np.zeros(h, w), np.zeros(h, w), np.zeros(h, w)"
   ]
  },
  {
   "cell_type": "markdown",
   "metadata": {},
   "source": [
    "Проверьте правильность работы  функции с помощью простейшего теста."
   ]
  },
  {
   "cell_type": "code",
   "execution_count": null,
   "metadata": {
    "ExecuteTime": {
     "end_time": "2018-04-20T15:42:40.316870Z",
     "start_time": "2018-04-20T15:42:40.306146Z"
    }
   },
   "outputs": [],
   "source": [
    "# small test for self-examination\n",
    "r, g, b = get_bayer_pattern_masks(3, 3) \n",
    "assert (r == np.array([\n",
    "    [0, 1, 0], \n",
    "    [0, 0, 0], \n",
    "    [0, 1, 0]]\n",
    ")).all()\n",
    "assert (g == np.array([\n",
    "    [1, 0, 1], \n",
    "    [0, 1, 0], \n",
    "    [1, 0, 1]]\n",
    ")).all()\n",
    "assert (b == np.array([\n",
    "    [0, 0, 0], \n",
    "    [1, 0, 1], \n",
    "    [0, 0, 0]]\n",
    ")).all()"
   ]
  },
  {
   "cell_type": "markdown",
   "metadata": {},
   "source": [
    "**3. (0.5 балла)**\n",
    "\n",
    "Посмотрим, что на самом деле хранится в raw-изображениях. Напишите функцию, которая создает цветное изображение из raw-изображения следущим образом: в каждый цветовой канал поместите только известные пиксели из raw-изображения, пиксели, в которых данный цвет неизвестен, поставьте 0. Сохраните данное изображение в файл `results/colored_raw_image.bmp` и посмотрите что получилось.\n",
    "\n",
    "Вам может пригодиться:\n",
    "* `np.where(...)`\n",
    "* `skimage.io.imsave(...)`"
   ]
  },
  {
   "cell_type": "code",
   "execution_count": null,
   "metadata": {
    "ExecuteTime": {
     "end_time": "2018-04-20T15:42:40.830243Z",
     "start_time": "2018-04-20T15:42:40.822228Z"
    }
   },
   "outputs": [],
   "source": [
    "def get_colored_raw_image(raw_image):\n",
    "    \"\"\"\n",
    "    Create colored raw image.\n",
    "    \n",
    "    :param raw_image: numpy.ndarray((h, w), dtype=np.uint8), raw image created with bayer pattern\n",
    "    :return: numpy.ndarray((h, w, 3), dtype=np.uint8), colored raw image\n",
    "    \"\"\"\n",
    "    \n",
    "    # your code here\n",
    "    \n",
    "    return np.zeros((h, w, 3), dtype=np.uint8)"
   ]
  },
  {
   "cell_type": "code",
   "execution_count": null,
   "metadata": {
    "ExecuteTime": {
     "end_time": "2018-04-20T15:42:43.252703Z",
     "start_time": "2018-04-20T15:42:43.196758Z"
    }
   },
   "outputs": [],
   "source": [
    "colored_raw_image = get_colored_raw_image(raw_image)\n",
    "os.makedirs('results/', exist_ok=True)\n",
    "\n",
    "# your code here"
   ]
  },
  {
   "cell_type": "markdown",
   "metadata": {},
   "source": [
    "**4. (3 балла)**\n",
    "\n",
    "Напишите алгоритм билинейной интерполяции байеровского шаблона. В этом алгоритме **неизвестные** значения цветовых компонент вычисляются следущим образом:\n",
    "* рассматривается окно 3x3 с центром в данном пикселе\n",
    "* значение цветовой компоненты(r, g, или b) в данном пикселе вычисляется как среднее **заданных** значений данной цветовой компоненты пикселей в этом окне\n",
    "\n",
    "Например, если, мы хотим интерполировать значение зеленой компоненты цвета в пикселе отмеченном '$+$' на рисунке, нам необходимо усреднить значение 4-х зеленых конпонент в 3x3 окрестности, отмеченных '$\\cdot$' \n",
    "\n",
    "<img src=\"example.png\" width=\"130\">\n",
    "\n",
    "В данном задание разрешается обходить матрицу и попиксельно вычислять цветовые компоненты. На будущих занятих вы познакомитесь с понятием \"cвертка\", и узнаете как на питоне можно было бы избежать обхода матрицы.\n",
    "\n",
    "Вам может пригодиться:\n",
    "* `numpy.stack(...)`\n",
    "* `numpy.rint(...)`\n",
    "\n",
    "**Замечания:** \n",
    "* Поведение на границе, где окно 3x3 неполное, выберите на свое усмотрение, при подсчете метрик оно учитываться не будет.\n",
    "* Выполнение алгоритма на одном изображении не должно занимать более 20 секунд.\n",
    "* Будьте аккуратны с вычислениями, raw-изображние хранит `uint8` значения. Для избежания ошибок, связанных с переполнением типа и округлением, рекомендуется в самом начале вычислений преобразовывать изображения в тип `float64`, а после окончания округлять значения до целых с помощью `numpy.rint(...)` и преобразовывать тип обратно в `uint8`."
   ]
  },
  {
   "cell_type": "code",
   "execution_count": null,
   "metadata": {
    "ExecuteTime": {
     "end_time": "2018-04-20T15:42:44.075653Z",
     "start_time": "2018-04-20T15:42:44.053205Z"
    }
   },
   "outputs": [],
   "source": [
    "def bilinear_interpolation(raw_image):\n",
    "    \"\"\"\n",
    "    Perform bilinear interpolation demosaicing algorithm on raw image\n",
    "    \n",
    "    :param raw_image: numpy.ndarray((h, w), dtype=np.uint8), raw image created with bayer pattern\n",
    "    :return: numpy.ndarray((h, w, 3), dtype=np.uint8), interpolated image\n",
    "    \"\"\"\n",
    "    \n",
    "    image = np.zeros((h, w, 3), dtype=np.float64)\n",
    "    \n",
    "    # your code here\n",
    "\n",
    "    return np.rint(image).astype(np.uint8)"
   ]
  },
  {
   "cell_type": "markdown",
   "metadata": {},
   "source": [
    "Проверьте правильность работы функции с помощью простейшего теста. "
   ]
  },
  {
   "cell_type": "code",
   "execution_count": null,
   "metadata": {
    "ExecuteTime": {
     "end_time": "2018-04-20T15:42:50.206102Z",
     "start_time": "2018-04-20T15:42:44.848532Z"
    }
   },
   "outputs": [],
   "source": [
    "# small test for self-examination\n",
    "raw_image = skimage.io.imread('data/raw/IMG0001.bmp')\n",
    "image_true = skimage.io.imread('data/debug/IMG0001_bilinear.bmp')\n",
    "diff = np.abs(bilinear_interpolation(raw_image) - image_true)[1:-1, 1:-1].sum()\n",
    "assert diff == 0"
   ]
  },
  {
   "cell_type": "markdown",
   "metadata": {},
   "source": [
    "Вычислите билинейную интерполяцию байеровского шаблона для всех изображений из директории `raw/` и сохраните в директорию `results/bilinear/`. Посмотрите на результаты интерполяции, сделайте выводы о плюсах и минусах этого алгоритма."
   ]
  },
  {
   "cell_type": "code",
   "execution_count": null,
   "metadata": {
    "ExecuteTime": {
     "end_time": "2018-04-20T15:42:50.230414Z",
     "start_time": "2018-04-20T15:42:50.221651Z"
    }
   },
   "outputs": [],
   "source": [
    "OUTPUT_DIR = 'results/bilinear'\n",
    "os.makedirs(OUTPUT_DIR, exist_ok=True)\n",
    "\n",
    "# your code here"
   ]
  },
  {
   "cell_type": "markdown",
   "metadata": {},
   "source": [
    "**Выводы:**"
   ]
  },
  {
   "cell_type": "markdown",
   "metadata": {},
   "source": [
    "**5. (1 балл)**\n",
    "\n",
    "Для численной оценки работы алгоритма билинейной интерполяции реализуйте следущие метрики качества:\n",
    "\n",
    "* Mean squared error $mse(pred\\_image, gt\\_image) = \\frac{1}{3 * h * w} \\sum_{i=1}^{h} \\sum_{j=1}^{w} \\sum_{c=1}^{3} (gt\\_image[i, j, c] - pred\\_image[i,j,c])^2$ \n",
    "\n",
    "* Peak signal-to-noise ratio $psnr(pred\\_image, gt\\_image) = 10 \\log_{10}{(\\frac{max(gt\\_image)^2}{mse(pred\\_image, gt\\_image)} )}$\n",
    "\n",
    "где $gt\\_image$ - истинное изображение, $pred\\_image$ - предсказанное.\n",
    "\n",
    "Вычислите среднее значение этих метрик для всего датасета. При подсчете метрик не учитывайте, границу изображения, длиной в 2 пикселя.\n",
    "\n",
    "Вам может понадобиться:\n",
    "* `numpy.ndarray.mean(...)`\n",
    "* `numpy.ndarray.max(...)`\n",
    "* `numpy.log10(...)`\n",
    "\n",
    "**Замечание:** Будьте аккуратны с вычислениями, raw-изображние хранит `uint8` значения. Для избежания ошибок, связанных с переполнением типа, рекомендуется в самом начале вычислений преобразовать изображение в тип `float64`."
   ]
  },
  {
   "cell_type": "code",
   "execution_count": null,
   "metadata": {
    "ExecuteTime": {
     "end_time": "2018-04-20T15:45:06.838727Z",
     "start_time": "2018-04-20T15:45:06.826306Z"
    }
   },
   "outputs": [],
   "source": [
    "def mse_score(pred_image, gt_image):\n",
    "    \"\"\"\n",
    "    Compute mean squared error\n",
    "    :param pred_image: numpy.ndarray((h, w, 3), dtype=np.uint8), predicted image\n",
    "    :param gt_image: numpy.ndarray((h, w, 3), dtype=np.uint8), ground truth image\n",
    "    :return:\n",
    "    \"\"\"\n",
    "\n",
    "    pred_image = pred_image.astype(np.float64)\n",
    "    gt_image = gt_image.astype(np.float64)\n",
    "    \n",
    "    # your code here\n",
    "\n",
    "    return 0\n",
    "\n",
    "\n",
    "def psnr_score(pred_image, gt_image):\n",
    "    \"\"\"\n",
    "    Compute peak signal-to-noise ratio\n",
    "    :param pred_image: numpy.ndarray((h, w, 3), dtype=np.uint8), predicted image\n",
    "    :param gt_image: numpy.ndarray((h, w, 3), dtype=np.uint8), ground truth image\n",
    "    :return:\n",
    "    \"\"\"\n",
    "    pred_image = pred_image.astype(np.float64)\n",
    "    gt_image = gt_image.astype(np.float64)\n",
    "    \n",
    "    # your code here\n",
    "\n",
    "    return 0"
   ]
  },
  {
   "cell_type": "code",
   "execution_count": null,
   "metadata": {
    "ExecuteTime": {
     "end_time": "2018-04-20T15:45:07.941502Z",
     "start_time": "2018-04-20T15:45:06.858316Z"
    }
   },
   "outputs": [],
   "source": [
    "# your code here"
   ]
  },
  {
   "cell_type": "markdown",
   "metadata": {},
   "source": [
    "**6. (3.5 балла)**\n",
    "\n",
    "Теперь реализуем более сложную версию линейной интерполяции баеровского шаблона. Прочитайте статью, выданную вам совместно с ноутбуком, и реализуйте предложенный в ней алгоритм. Вычислите интерполяцию для всех изображений и сохраните в директорию `results/improved/`. Посчитайте средние значения метрик качества. \n",
    "\n",
    "**Замечания по поводу алгоритма:**\n",
    "* в работе указанные фильтры неотнормированны к единице(сумма коэффициентов не равняется 1), чтобы сохранить масштаб значений, коэффициенты необходимо отнормировать на сумму значений в данном фильтре;\n",
    "* в результате указанных в работе фильтров могут получаться значения большие 255 и меньшие 0, вам необходимо отрезать слишком большие и слишком маленькие значения по крайним значениям(`numpy.clip`);\n",
    "* веса фильтров были выписаны в массивы за вас для избежания лишних ошибок.\n",
    "\n",
    "**Замечание:** Как никогда будьте аккуратны с вычислениями, raw-изображние хранит `uint8` значения. Для избежания ошибок, связанных с переполнением типа и округлением, рекомендуется в самом начале вычислений преобразовывать изображения в тип `float64`, а после окончания округлять значения до целых с помощью `numpy.rint(...)` и преобразовывать тип обратно в `uint8`."
   ]
  },
  {
   "cell_type": "code",
   "execution_count": null,
   "metadata": {
    "ExecuteTime": {
     "end_time": "2018-04-20T15:45:07.960827Z",
     "start_time": "2018-04-20T15:45:07.943386Z"
    }
   },
   "outputs": [],
   "source": [
    "weigths_0 = (1 / 8) * np.array([\n",
    "    [ 0,  0, 1/2,  0,  0],\n",
    "    [ 0, -1,   0, -1,  0],\n",
    "    [-1,  4,   5,  4, -1],\n",
    "    [ 0, -1,   0, -1,  0],\n",
    "    [ 0,  0, 1/2,  0,  0]\n",
    "])\n",
    "\n",
    "weigths_1 = (1 / 8) * np.array([\n",
    "    [  0,  0,  -1,  0,   0],\n",
    "    [  0, -1,   4, -1,   0],\n",
    "    [1/2,  0,   5,  0, 1/2],\n",
    "    [  0, -1,   4, -1,   0],\n",
    "    [  0,  0,  -1,  0,   0]\n",
    "])\n",
    "\n",
    "weigths_2 = (1 / 8) * np.array([\n",
    "    [   0,  0, -3/2,  0,    0],\n",
    "    [   0,  2,    0,  2,    0],\n",
    "    [-3/2,  0,    6,  0, -3/2],\n",
    "    [   0,  2,    0,  2,    0],\n",
    "    [   0,  0, -3/2,  0,    0]\n",
    "])\n",
    "\n",
    "weigths_3 = (1 / 8) * np.array([\n",
    "    [ 0,  0, -1,  0,  0],\n",
    "    [ 0,  0,  2,  0,  0],\n",
    "    [-1,  2,  4,  2, -1],\n",
    "    [ 0,  0,  2,  0,  0],\n",
    "    [ 0,  0, -1,  0,  0]\n",
    "])"
   ]
  },
  {
   "cell_type": "code",
   "execution_count": null,
   "metadata": {
    "ExecuteTime": {
     "end_time": "2018-04-20T15:45:08.007731Z",
     "start_time": "2018-04-20T15:45:07.974470Z"
    }
   },
   "outputs": [],
   "source": [
    "def improved_linear_interpolation(raw_image):\n",
    "    \"\"\"\n",
    "    Improved linear interpolation demosaicing algorithm on raw image\n",
    "    \n",
    "    :param raw_image: numpy.ndarray((h, w), dtype=np.uint8), raw image created with bayer pattern\n",
    "    :return: numpy.ndarray((h, w, 3), dtype=np.uint8), interpolated image\n",
    "    \"\"\"\n",
    "\n",
    "    image = np.zeros((h, w, 3), np.float64)\n",
    "    \n",
    "    # your code here\n",
    "\n",
    "    return np.rint(image).astype(np.uint8)"
   ]
  },
  {
   "cell_type": "markdown",
   "metadata": {
    "ExecuteTime": {
     "end_time": "2018-04-20T15:32:51.960310Z",
     "start_time": "2018-04-20T15:32:51.955085Z"
    }
   },
   "source": [
    "Проверьте правильность работы функции с помощью прmостейшего теста. "
   ]
  },
  {
   "cell_type": "code",
   "execution_count": null,
   "metadata": {
    "ExecuteTime": {
     "end_time": "2018-04-20T15:45:11.775524Z",
     "start_time": "2018-04-20T15:45:08.091979Z"
    }
   },
   "outputs": [],
   "source": [
    "# small test for self-examination\n",
    "raw_image = skimage.io.imread('data/raw/IMG0001.bmp')\n",
    "image_true = skimage.io.imread('data/debug/IMG0001_improved.bmp')\n",
    "diff = np.abs(improved_linear_interpolation(raw_image) - image_true)[2:-2, 2:-2].sum()\n",
    "assert diff == 0"
   ]
  },
  {
   "cell_type": "code",
   "execution_count": null,
   "metadata": {
    "ExecuteTime": {
     "end_time": "2018-04-20T15:45:11.782446Z",
     "start_time": "2018-04-20T15:45:11.778295Z"
    }
   },
   "outputs": [],
   "source": [
    "OUTPUT_DIR2 = 'results/improved/'\n",
    "os.makedirs(OUTPUT_DIR2)\n",
    "\n",
    "# your code here\n"
   ]
  },
  {
   "cell_type": "markdown",
   "metadata": {},
   "source": [
    "**7. (1 балл)**\n",
    "\n",
    "Проведите сравненение двух алгоритмов. Сравните два алгоритма по метрикам качества. А также выберите сложные моменты(\"окна\" изображениях) для интерполяции и визуализируйте эти \"окна\". Сравнивайте работу первого алгоритма, второго алгоритма и ground truth. Найдите 3-4 таких \"окна\". Сделайте выводы."
   ]
  },
  {
   "cell_type": "code",
   "execution_count": null,
   "metadata": {
    "ExecuteTime": {
     "end_time": "2018-04-20T15:46:51.278653Z",
     "start_time": "2018-04-20T15:46:51.272399Z"
    }
   },
   "outputs": [],
   "source": [
    "# your code here"
   ]
  },
  {
   "cell_type": "markdown",
   "metadata": {
    "ExecuteTime": {
     "end_time": "2018-04-19T13:32:13.741631Z",
     "start_time": "2018-04-19T13:32:13.730363Z"
    }
   },
   "source": [
    "**Выводы: **"
   ]
  },
  {
   "cell_type": "code",
   "execution_count": null,
   "metadata": {},
   "outputs": [],
   "source": []
  }
 ],
 "metadata": {
  "kernelspec": {
   "display_name": "Python 3",
   "language": "python",
   "name": "python3"
  },
  "language_info": {
   "codemirror_mode": {
    "name": "ipython",
    "version": 3
   },
   "file_extension": ".py",
   "mimetype": "text/x-python",
   "name": "python",
   "nbconvert_exporter": "python",
   "pygments_lexer": "ipython3",
   "version": "3.5.2"
  }
 },
 "nbformat": 4,
 "nbformat_minor": 2
}
